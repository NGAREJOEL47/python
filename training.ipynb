{
  "nbformat": 4,
  "nbformat_minor": 0,
  "metadata": {
    "colab": {
      "provenance": [],
      "authorship_tag": "ABX9TyO4TDT6hbr52UDU6q9fYLeU",
      "include_colab_link": true
    },
    "kernelspec": {
      "name": "python3",
      "display_name": "Python 3"
    },
    "language_info": {
      "name": "python"
    }
  },
  "cells": [
    {
      "cell_type": "markdown",
      "metadata": {
        "id": "view-in-github",
        "colab_type": "text"
      },
      "source": [
        "<a href=\"https://colab.research.google.com/github/NGAREJOEL47/python/blob/main/training.ipynb\" target=\"_parent\"><img src=\"https://colab.research.google.com/assets/colab-badge.svg\" alt=\"Open In Colab\"/></a>"
      ]
    },
    {
      "cell_type": "code",
      "execution_count": null,
      "metadata": {
        "id": "BiLOPuKUckpI"
      },
      "outputs": [],
      "source": []
    },
    {
      "cell_type": "markdown",
      "source": [
        "# New Section"
      ],
      "metadata": {
        "id": "73MlgOULFUu6"
      }
    },
    {
      "cell_type": "code",
      "source": [
        "import pandas as np"
      ],
      "metadata": {
        "id": "ljUTDAqKdF5S"
      },
      "execution_count": null,
      "outputs": []
    },
    {
      "cell_type": "code",
      "source": [
        "r=b\"gtr\"\n",
        "print(type(r))"
      ],
      "metadata": {
        "colab": {
          "base_uri": "https://localhost:8080/"
        },
        "id": "EPSZu0nfddjC",
        "outputId": "306ec4da-bd6b-42e3-d971-a2686b165a86"
      },
      "execution_count": null,
      "outputs": [
        {
          "output_type": "stream",
          "name": "stdout",
          "text": [
            "<class 'bytes'>\n"
          ]
        }
      ]
    },
    {
      "cell_type": "code",
      "source": [
        "import random\n",
        "print(random.randrange(12,90))\n"
      ],
      "metadata": {
        "colab": {
          "base_uri": "https://localhost:8080/"
        },
        "id": "wbx2IQvdddmf",
        "outputId": "9fa345dd-2bcd-4492-96e3-7a4dcc43e1f8"
      },
      "execution_count": null,
      "outputs": [
        {
          "output_type": "stream",
          "name": "stdout",
          "text": [
            "19\n"
          ]
        }
      ]
    },
    {
      "cell_type": "code",
      "source": [
        "y=6\n",
        "txt=\"today is your  th \\bblas\"\n",
        "print(txt)\n"
      ],
      "metadata": {
        "colab": {
          "base_uri": "https://localhost:8080/"
        },
        "id": "QPtFcATNkCH7",
        "outputId": "9708ca01-e985-4418-b9f5-07207bafecfd"
      },
      "execution_count": null,
      "outputs": [
        {
          "output_type": "stream",
          "name": "stdout",
          "text": [
            "today is your  th \bblas\n"
          ]
        }
      ]
    },
    {
      "cell_type": "code",
      "source": [
        "from google.colab import drive\n",
        "drive.mount('/content/drive')"
      ],
      "metadata": {
        "id": "9BRC6yhm459K"
      },
      "execution_count": null,
      "outputs": []
    },
    {
      "cell_type": "markdown",
      "source": [
        "# New Section"
      ],
      "metadata": {
        "id": "NAQUNrrpwaR1"
      }
    },
    {
      "cell_type": "code",
      "source": [
        "num1=int(input(\"the first number is:\"))\n",
        "num2=int(input(\"the second number is:\"))\n",
        "operation=(input(\"enter operator\\\"*,+,-,/\\\":\"))\n",
        "\n",
        "def myfunc():\n",
        "  if operation=='+':\n",
        "   ans=(num1+num2)\n",
        "  elif operation=='-':\n",
        "   ans=(num1-num2)\n",
        "  elif operation=='*':\n",
        "   ans=(num1*num2)\n",
        "  elif operation=='/':\n",
        "    if num2!=0:\n",
        "      ans=(num1/num2)\n",
        "    else:\n",
        "      print(\"error\")\n",
        "  else:\n",
        "       print(\"invalid operator\")\n",
        "  print(ans)\n",
        "myfunc()\n",
        "\n",
        "\n"
      ],
      "metadata": {
        "colab": {
          "base_uri": "https://localhost:8080/"
        },
        "id": "h-dJd3a6wcdY",
        "outputId": "968ffd4b-40bd-4510-97ee-64a567102fd4"
      },
      "execution_count": null,
      "outputs": [
        {
          "output_type": "stream",
          "name": "stdout",
          "text": [
            "the first number is:2\n",
            "the second number is:9\n",
            "enter operator\"*,+,-,/\":/\n",
            "0.2222222222222222\n"
          ]
        }
      ]
    },
    {
      "cell_type": "code",
      "source": [
        "\n",
        "student=str(input('Are you a student? yes/no: ').lower())\n",
        "age=int(input('enter your age: '))\n",
        "\n",
        "def price():\n",
        "    if age<=10:\n",
        "      if student==\"yes\":\n",
        "       price=100\n",
        "      else:\n",
        "       price=150\n",
        "    elif age<=18:\n",
        "      if student==\"yes\":\n",
        "       price=150\n",
        "      else:\n",
        "       price=200\n",
        "    elif age<=35:\n",
        "      if student==\"yes\":\n",
        "       price=200\n",
        "      else:\n",
        "       price=250\n",
        "    elif age>35:\n",
        "      if student==\"yes\":\n",
        "       price=250\n",
        "      else:\n",
        "       price=300\n",
        "    else:\n",
        "      print(\"invalid choice\")\n",
        "    return price\n",
        "price_to_pay=price()\n",
        "print(f'PLEASE PAY ksh \\033[1;35m{price_to_pay}\\033[0m below')\n",
        "\n",
        "correct_price=int(input(\"enter amount: \"))\n",
        "\n",
        "if correct_price==price_to_pay:\n",
        "  print(\"successful completed payment\")\n",
        "elif correct_price<price_to_pay:\n",
        "  print(f\"insuficient payment, please add {price_to_pay-correct_price}\")\n",
        "elif correct_price>price_to_pay:\n",
        "  print(f\"excess payment, please enter {price_to_pay}\")\n",
        "else:\n",
        "  print(\"invalid choice\")"
      ],
      "metadata": {
        "colab": {
          "base_uri": "https://localhost:8080/"
        },
        "id": "KDL2M-EV5azT",
        "outputId": "806ce2a7-afb6-4a94-e9b1-037bd42acaf1"
      },
      "execution_count": null,
      "outputs": [
        {
          "output_type": "stream",
          "name": "stdout",
          "text": [
            "Are you a student? yes/no: 54\n",
            "enter your age: 54\n",
            "PLEASE PAY ksh \u001b[1;35m300\u001b[0m below\n",
            "enter amount: 150\n",
            "insuficient payment, please add 150\n"
          ]
        }
      ]
    },
    {
      "cell_type": "code",
      "source": [],
      "metadata": {
        "id": "Ri-Fjj3HotdB"
      },
      "execution_count": null,
      "outputs": []
    },
    {
      "cell_type": "code",
      "source": [
        "student = str(input('Are you a student? yes/no: ').lower())\n",
        "age = int(input('Enter your age: '))\n",
        "\n",
        "def calculate_price():\n",
        "    if 1 <= age <= 10:\n",
        "        return 100 if student == \"yes\" else 150\n",
        "    elif 10 < age <= 18:\n",
        "        return 150 if student == \"yes\" else 200\n",
        "    elif 18 < age <= 35:\n",
        "        return 200 if student == \"yes\" else 250\n",
        "    elif age>35:\n",
        "        return 250 if student == \"yes\" else 300\n",
        "    else:\n",
        "        print(\"Invalid choice\")\n",
        "\n",
        "price_to_pay = calculate_price()\n",
        "print(f'PLEASE PAY ksh \\033[1;35m{price_to_pay}\\033[0m below')\n",
        "\n",
        "correct_price = int(input(\"Enter amount: \"))\n",
        "\n",
        "if correct_price == price_to_pay:\n",
        "    print(\"Successfully completed payment\")\n",
        "elif correct_price < price_to_pay:\n",
        "    print(f\"Insufficient payment, please add ksh {price_to_pay - correct_price}\")\n",
        "elif correct_price > price_to_pay:\n",
        "    print(f\"Excess payment, please enter exactly ksh {price_to_pay}\")"
      ],
      "metadata": {
        "colab": {
          "base_uri": "https://localhost:8080/"
        },
        "id": "6nwAI9y_HRnB",
        "outputId": "fb2ce7d1-eb19-4153-ece7-ffc40b562973"
      },
      "execution_count": null,
      "outputs": [
        {
          "output_type": "stream",
          "name": "stdout",
          "text": [
            "Are you a student? yes/no: yes\n",
            "Enter your age: 54\n",
            "PLEASE PAY ksh \u001b[1;35m250\u001b[0m below\n",
            "Enter amount: 100\n",
            "Insufficient payment, please add ksh 150\n"
          ]
        }
      ]
    },
    {
      "cell_type": "code",
      "source": [
        "n=8\n",
        "sum=0\n",
        "count=2\n",
        "\n",
        "while count<=n:\n",
        " count=count+2\n",
        " sum=sum+count\n",
        "print(sum)\n",
        "\n",
        "for i in range(5):\n",
        "    print(i)\n"
      ],
      "metadata": {
        "colab": {
          "base_uri": "https://localhost:8080/"
        },
        "id": "k5jfmLVmov5u",
        "outputId": "f5e5824c-d8a2-49aa-b6d8-2ec4efd41705"
      },
      "execution_count": null,
      "outputs": [
        {
          "output_type": "stream",
          "name": "stdout",
          "text": [
            "28\n",
            "0\n",
            "1\n",
            "2\n",
            "3\n",
            "4\n"
          ]
        }
      ]
    },
    {
      "cell_type": "code",
      "source": [
        "##### tuples\n",
        "numbers=(1,2,3,4,5,6,7,8,9)\n",
        "num=list(numbers)\n",
        "num[0]=\"yes\"\n",
        "tuple(num)"
      ],
      "metadata": {
        "colab": {
          "base_uri": "https://localhost:8080/"
        },
        "id": "M1q33s--NNyi",
        "outputId": "c1ea64a8-c297-4c8b-b689-0fa94906e4ad"
      },
      "execution_count": null,
      "outputs": [
        {
          "output_type": "execute_result",
          "data": {
            "text/plain": [
              "('yes', 2, 3, 4, 5, 6, 7, 8, 9)"
            ]
          },
          "metadata": {},
          "execution_count": 29
        }
      ]
    },
    {
      "cell_type": "code",
      "source": [
        "main_tuple_elem=((1,2,3),(4,5,6),(7,8,9))\n",
        "print(main_tuple_elem[1][2])"
      ],
      "metadata": {
        "colab": {
          "base_uri": "https://localhost:8080/"
        },
        "id": "-QeEjRTJSX83",
        "outputId": "bcfe40e6-d7d6-4f40-94a5-ad9f6b21bedc"
      },
      "execution_count": null,
      "outputs": [
        {
          "output_type": "stream",
          "name": "stdout",
          "text": [
            "6\n"
          ]
        }
      ]
    },
    {
      "cell_type": "code",
      "source": [
        "numbers.index(3)"
      ],
      "metadata": {
        "colab": {
          "base_uri": "https://localhost:8080/"
        },
        "id": "sXGbt1C7YeFt",
        "outputId": "733017fc-2150-4582-8b6f-be46e2f39e55"
      },
      "execution_count": null,
      "outputs": [
        {
          "output_type": "execute_result",
          "data": {
            "text/plain": [
              "2"
            ]
          },
          "metadata": {},
          "execution_count": 60
        }
      ]
    },
    {
      "cell_type": "code",
      "source": [
        "for sub_tuple in main_tuple_elem:\n",
        "  for elem in sub_tuple:\n",
        "    print(elem,end=\" \")\n",
        "  print()\n"
      ],
      "metadata": {
        "colab": {
          "base_uri": "https://localhost:8080/"
        },
        "id": "EL2lKVFcSuDS",
        "outputId": "9ee54e3f-fa5f-4f08-9651-6b546fb16bfd"
      },
      "execution_count": null,
      "outputs": [
        {
          "output_type": "stream",
          "name": "stdout",
          "text": [
            "1 2 3 \n",
            "4 5 6 \n",
            "7 8 9 \n"
          ]
        }
      ]
    },
    {
      "cell_type": "code",
      "source": [
        "x={1,2,3,3,4,5,6}\n",
        "y={3,4,5,6,7,8,9}\n",
        "n={3,4,5,6}\n",
        "m={7,8,9,10}\n",
        "print(x)\n",
        "print(y)\n",
        "print(n)\n",
        "print(m)"
      ],
      "metadata": {
        "id": "vBvfFrT9P0qo",
        "colab": {
          "base_uri": "https://localhost:8080/"
        },
        "outputId": "244c287d-b695-4e19-dfea-09d80618dbdc"
      },
      "execution_count": 6,
      "outputs": [
        {
          "output_type": "stream",
          "name": "stdout",
          "text": [
            "{1, 2, 3, 4, 5, 6}\n",
            "{3, 4, 5, 6, 7, 8, 9}\n",
            "{3, 4, 5, 6}\n",
            "{8, 9, 10, 7}\n"
          ]
        }
      ]
    },
    {
      "cell_type": "code",
      "source": [
        "x=(1,2,3,3,4,5,6)\n",
        "y=(3,4,5,6,7,8,9)\n",
        "n=(3,4,5,6)\n",
        "m=(7,8,9,10)\n",
        "a=set(x)\n",
        "b=set(y)\n",
        "c=set(n)\n",
        "d=set(m)\n",
        "\n",
        "# remove elements from sets\n",
        "a.remove(4)\n",
        "print(a)\n"
      ],
      "metadata": {
        "colab": {
          "base_uri": "https://localhost:8080/"
        },
        "id": "YtKNmsZBUQCS",
        "outputId": "3d986c79-d4f0-42f2-cc7a-bc99674885ad"
      },
      "execution_count": 64,
      "outputs": [
        {
          "output_type": "stream",
          "name": "stdout",
          "text": [
            "{1, 2, 3, 5, 6}\n"
          ]
        }
      ]
    },
    {
      "cell_type": "code",
      "source": [
        "a.discard(4)\n",
        "print(a)\n"
      ],
      "metadata": {
        "id": "OtkDZLwbdrio"
      },
      "execution_count": null,
      "outputs": []
    },
    {
      "cell_type": "code",
      "source": [
        "\n",
        "a.discard(3)\n",
        "print(a)\n"
      ],
      "metadata": {
        "colab": {
          "base_uri": "https://localhost:8080/"
        },
        "id": "P_Ao1iZWeLUj",
        "outputId": "c3d527b3-ac9e-49c8-9750-5e862dbe56a0"
      },
      "execution_count": 65,
      "outputs": [
        {
          "output_type": "stream",
          "name": "stdout",
          "text": [
            "{1, 2, 5, 6}\n"
          ]
        }
      ]
    },
    {
      "cell_type": "code",
      "source": [
        "\n",
        "a.pop()\n",
        "print(a)\n"
      ],
      "metadata": {
        "colab": {
          "base_uri": "https://localhost:8080/"
        },
        "id": "-DVCvyJAeLEo",
        "outputId": "839f4c4b-a2c3-45a2-9954-feaf6856ee45"
      },
      "execution_count": 66,
      "outputs": [
        {
          "output_type": "stream",
          "name": "stdout",
          "text": [
            "{2, 5, 6}\n"
          ]
        }
      ]
    },
    {
      "cell_type": "code",
      "source": [
        "\n",
        "a.clear()\n",
        "print(a)\n"
      ],
      "metadata": {
        "colab": {
          "base_uri": "https://localhost:8080/"
        },
        "id": "rvQxYaWDeK2x",
        "outputId": "0a2b65fa-99a9-4329-a13e-668884229304"
      },
      "execution_count": 75,
      "outputs": [
        {
          "output_type": "stream",
          "name": "stdout",
          "text": [
            "set()\n"
          ]
        }
      ]
    },
    {
      "cell_type": "code",
      "source": [
        "\n",
        "# add an element to set\n",
        "\n",
        "a.update((1,2,3,4,5))\n",
        "print(a)\n"
      ],
      "metadata": {
        "colab": {
          "base_uri": "https://localhost:8080/"
        },
        "id": "UPVbvAXUeKlo",
        "outputId": "61bafc51-87b0-4be6-f3b2-9548e3094985"
      },
      "execution_count": 68,
      "outputs": [
        {
          "output_type": "stream",
          "name": "stdout",
          "text": [
            "{1, 2, 3, 4, 5}\n",
            "{1, 2, 3, 4, 5, 6}\n",
            "{3, 4, 5, 6, 7, 8, 9, 10}\n",
            "{3, 4, 5, 6, 7, 8, 9, 10}\n",
            "{3, 4, 5, 6}\n",
            "{3, 4, 5, 6}\n"
          ]
        }
      ]
    },
    {
      "cell_type": "code",
      "source": [
        "\n",
        "a.add(6)\n",
        "print(a)\n"
      ],
      "metadata": {
        "colab": {
          "base_uri": "https://localhost:8080/"
        },
        "id": "nw01d3aUeKYA",
        "outputId": "7823c444-f834-4d22-dc38-8c8b92a9fc32"
      },
      "execution_count": 74,
      "outputs": [
        {
          "output_type": "stream",
          "name": "stdout",
          "text": [
            "{3, 4, 5, 6}\n"
          ]
        }
      ]
    },
    {
      "cell_type": "code",
      "source": [
        "\n",
        "x=(1,2,3,3,4,5,6)\n",
        "y=(3,4,5,6,7,8,9)\n",
        "n=(3,4,5,6)\n",
        "m=(7,8,9,10)\n",
        "a=set(x)\n",
        "b=set(y)\n",
        "c=set(n)\n",
        "d=set(m)\n",
        "\n",
        "# sets operations\n",
        "##### union(|)\n",
        "j=c.union(d)\n",
        "print(j)\n"
      ],
      "metadata": {
        "colab": {
          "base_uri": "https://localhost:8080/"
        },
        "id": "ec2MS6HpeJqp",
        "outputId": "2fe5f566-17fe-4253-9b89-2521bb176779"
      },
      "execution_count": 82,
      "outputs": [
        {
          "output_type": "stream",
          "name": "stdout",
          "text": [
            "{3, 4, 5, 6, 7, 8, 9, 10}\n"
          ]
        }
      ]
    },
    {
      "cell_type": "code",
      "source": [
        "\n",
        "k=c|d\n",
        "print(k)\n"
      ],
      "metadata": {
        "colab": {
          "base_uri": "https://localhost:8080/"
        },
        "id": "0iYEU3ZuekF4",
        "outputId": "093660c1-d85b-42d8-a526-4f00756a1f81"
      },
      "execution_count": 83,
      "outputs": [
        {
          "output_type": "stream",
          "name": "stdout",
          "text": [
            "{3, 4, 5, 6, 7, 8, 9, 10}\n"
          ]
        }
      ]
    },
    {
      "cell_type": "code",
      "source": [
        "\n",
        "#### intersection\n",
        "\n",
        "h=a.intersection(b)\n",
        "print(h)\n"
      ],
      "metadata": {
        "colab": {
          "base_uri": "https://localhost:8080/"
        },
        "id": "H9GtSzPgenj7",
        "outputId": "e570ee1b-f990-41f4-8daf-c20240c9265d"
      },
      "execution_count": 84,
      "outputs": [
        {
          "output_type": "stream",
          "name": "stdout",
          "text": [
            "{3, 4, 5, 6}\n"
          ]
        }
      ]
    },
    {
      "cell_type": "code",
      "source": [
        "#### intersection\n",
        "\n",
        "h=a&b\n",
        "print(h)\n"
      ],
      "metadata": {
        "colab": {
          "base_uri": "https://localhost:8080/"
        },
        "id": "eZUsgBf-gAXY",
        "outputId": "01520624-5db6-497c-e772-c0325ffeb5ed"
      },
      "execution_count": 85,
      "outputs": [
        {
          "output_type": "stream",
          "name": "stdout",
          "text": [
            "{3, 4, 5, 6}\n"
          ]
        }
      ]
    },
    {
      "cell_type": "code",
      "source": [
        "#### intersection update\n",
        "a.intersection_update(b)\n",
        "print(a)"
      ],
      "metadata": {
        "colab": {
          "base_uri": "https://localhost:8080/"
        },
        "id": "QSzhneAceqOx",
        "outputId": "871468df-c0be-4bcf-c34a-30da30282a0d"
      },
      "execution_count": 86,
      "outputs": [
        {
          "output_type": "stream",
          "name": "stdout",
          "text": [
            "{3, 4, 5, 6}\n"
          ]
        }
      ]
    },
    {
      "cell_type": "code",
      "source": [
        "#### difference\n",
        "x=(1,2,3,3,4,5,6)\n",
        "y=(3,4,5,6,7,8,9)\n",
        "n=(3,4,5,6)\n",
        "m=(7,8,9,10)\n",
        "a=set(x)\n",
        "b=set(y)\n",
        "c=set(n)\n",
        "d=set(m)\n",
        "\n",
        "g=a.difference(b)\n",
        "print(g)"
      ],
      "metadata": {
        "colab": {
          "base_uri": "https://localhost:8080/"
        },
        "id": "-XYBQUgMe0MS",
        "outputId": "2e35184c-297f-4dff-d8ab-6f4e18a0d6d6"
      },
      "execution_count": 90,
      "outputs": [
        {
          "output_type": "stream",
          "name": "stdout",
          "text": [
            "{1, 2}\n"
          ]
        }
      ]
    },
    {
      "cell_type": "code",
      "source": [],
      "metadata": {
        "id": "JQQAEwBJez3r"
      },
      "execution_count": null,
      "outputs": []
    },
    {
      "cell_type": "code",
      "source": [
        "f=\"i have two special children born by a beautiful woman\"\n",
        "print(f)\n",
        "\n",
        "s=f.split()\n",
        "print(set(s))\n"
      ],
      "metadata": {
        "colab": {
          "base_uri": "https://localhost:8080/"
        },
        "id": "O6AkzRJAXGcS",
        "outputId": "f25a8887-e721-429e-e7c5-a2484883a0fe"
      },
      "execution_count": 26,
      "outputs": [
        {
          "output_type": "stream",
          "name": "stdout",
          "text": [
            "i have two special children born by a beautiful woman\n",
            "{'by', 'i', 'woman', 'beautiful', 'have', 'children', 'two', 'a', 'born', 'special'}\n"
          ]
        }
      ]
    }
  ]
}